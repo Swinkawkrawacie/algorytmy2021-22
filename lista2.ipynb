{
 "cells": [
  {
   "cell_type": "code",
   "execution_count": 73,
   "id": "therapeutic-relay",
   "metadata": {},
   "outputs": [],
   "source": [
    "import math\n",
    "from matplotlib import pyplot as plt\n",
    "import numpy as np"
   ]
  },
  {
   "cell_type": "markdown",
   "id": "agricultural-iraqi",
   "metadata": {},
   "source": [
    "# **Zadanie 2.**"
   ]
  },
  {
   "cell_type": "markdown",
   "id": "aging-terrace",
   "metadata": {},
   "source": [
    "Najbardziej podstawowa metoda:"
   ]
  },
  {
   "cell_type": "code",
   "execution_count": 84,
   "id": "constant-piano",
   "metadata": {},
   "outputs": [],
   "source": [
    "def find_abc1(n:int):\n",
    "    k=0\n",
    "    existance=False\n",
    "    for a in range(n):\n",
    "        k+=1\n",
    "        for b in range(n):\n",
    "            k+=1\n",
    "            for c in range(n):\n",
    "                k+=14\n",
    "                if a**2+b**2==c**2 and a+b+c==n and a!=b and b!=c:\n",
    "                    existance = True\n",
    "                    return [existance,a,b,c,k]\n",
    "    a,b,c=-1,-1,-1\n",
    "    return [existance,a,b,c,k]"
   ]
  },
  {
   "cell_type": "code",
   "execution_count": 85,
   "id": "narrow-evans",
   "metadata": {},
   "outputs": [
    {
     "data": {
      "text/plain": [
       "[True, 200, 375, 425, 2805456541]"
      ]
     },
     "execution_count": 85,
     "metadata": {},
     "output_type": "execute_result"
    }
   ],
   "source": [
    "find_abc1(1000)"
   ]
  },
  {
   "cell_type": "code",
   "execution_count": 86,
   "id": "accepted-queensland",
   "metadata": {},
   "outputs": [
    {
     "data": {
      "text/plain": [
       "[True, 3, 4, 5, 6849]"
      ]
     },
     "execution_count": 86,
     "metadata": {},
     "output_type": "execute_result"
    }
   ],
   "source": [
    "find_abc1(12)"
   ]
  },
  {
   "cell_type": "code",
   "execution_count": 87,
   "id": "typical-theorem",
   "metadata": {},
   "outputs": [
    {
     "data": {
      "text/plain": [
       "[False, -1, -1, -1, 18766]"
      ]
     },
     "execution_count": 87,
     "metadata": {},
     "output_type": "execute_result"
    }
   ],
   "source": [
    "find_abc1(11)"
   ]
  },
  {
   "cell_type": "markdown",
   "id": "aquatic-messenger",
   "metadata": {},
   "source": [
    "Aby istniał trójkąt stworzony z długości a,b,c, muszą one spełniać warunek<br>\n",
    "a+b>c => a+b+c=n => 2c<n => c<n/2<br>\n",
    "zatem możemy zmienić zakres poszukiwań:"
   ]
  },
  {
   "cell_type": "code",
   "execution_count": 88,
   "id": "proud-coffee",
   "metadata": {},
   "outputs": [],
   "source": [
    "def find_abc2(n:int):\n",
    "    k=0\n",
    "    existance=False\n",
    "    for a in range(round(n/2)+1):\n",
    "        k+=1\n",
    "        for b in range(round(n/2)+1):\n",
    "            k+=1\n",
    "            for c in range(round(n/2)+1):\n",
    "                k+=14\n",
    "                if a**2+b**2==c**2 and a+b+c==n and a!=b and b!=c:\n",
    "                    existance = True\n",
    "                    return [existance,a,b,c,k]\n",
    "    a,b,c=-1,-1,-1\n",
    "    return [existance,a,b,c,k]"
   ]
  },
  {
   "cell_type": "code",
   "execution_count": 89,
   "id": "suitable-sight",
   "metadata": {},
   "outputs": [
    {
     "data": {
      "text/plain": [
       "[True, 200, 375, 425, 705539791]"
      ]
     },
     "execution_count": 89,
     "metadata": {},
     "output_type": "execute_result"
    }
   ],
   "source": [
    "find_abc2(1000)"
   ]
  },
  {
   "cell_type": "code",
   "execution_count": 93,
   "id": "exceptional-hollywood",
   "metadata": {},
   "outputs": [
    {
     "data": {
      "text/plain": [
       "[True, 3, 4, 5, 2564]"
      ]
     },
     "execution_count": 93,
     "metadata": {},
     "output_type": "execute_result"
    }
   ],
   "source": [
    "find_abc2(12)"
   ]
  },
  {
   "cell_type": "code",
   "execution_count": 94,
   "id": "scheduled-alexandria",
   "metadata": {},
   "outputs": [
    {
     "data": {
      "text/plain": [
       "[False, -1, -1, -1, 4858]"
      ]
     },
     "execution_count": 94,
     "metadata": {},
     "output_type": "execute_result"
    }
   ],
   "source": [
    "find_abc2(11)"
   ]
  },
  {
   "cell_type": "markdown",
   "id": "trained-swimming",
   "metadata": {},
   "source": [
    "Dodatkowo skoro liczby są całkowite, to wiemy, że muszą być różne, ponieważ jeśli a=b to c=a*sqrt(2) oraz możemy założyć, że a<b<c, więc możemy zmienić pętle:"
   ]
  },
  {
   "cell_type": "code",
   "execution_count": 95,
   "id": "attempted-domain",
   "metadata": {},
   "outputs": [],
   "source": [
    "def find_abc3(n:int):\n",
    "    k=0\n",
    "    existance=False\n",
    "    for a in range(round(n/2)+1):\n",
    "        k+=1\n",
    "        for b in range(a+1,round(n/2)+1):\n",
    "            k+=1\n",
    "            for c in range(b+1,round(n/2)+1):\n",
    "                k+=10\n",
    "                if a**2+b**2==c**2 and a+b+c==n:\n",
    "                    existance = True\n",
    "                    return [existance,a,b,c,k]\n",
    "    a,b,c=-1,-1,-1\n",
    "    return [existance,a,b,c,k]"
   ]
  },
  {
   "cell_type": "code",
   "execution_count": 96,
   "id": "modified-wesley",
   "metadata": {},
   "outputs": [
    {
     "data": {
      "text/plain": [
       "[True, 200, 375, 425, 163783726]"
      ]
     },
     "execution_count": 96,
     "metadata": {},
     "output_type": "execute_result"
    }
   ],
   "source": [
    "find_abc3(1000)"
   ]
  },
  {
   "cell_type": "code",
   "execution_count": 97,
   "id": "opened-bhutan",
   "metadata": {},
   "outputs": [
    {
     "data": {
      "text/plain": [
       "[True, 3, 4, 5, 340]"
      ]
     },
     "execution_count": 97,
     "metadata": {},
     "output_type": "execute_result"
    }
   ],
   "source": [
    "find_abc3(12)"
   ]
  },
  {
   "cell_type": "code",
   "execution_count": 98,
   "id": "blessed-reply",
   "metadata": {},
   "outputs": [
    {
     "data": {
      "text/plain": [
       "[False, -1, -1, -1, 378]"
      ]
     },
     "execution_count": 98,
     "metadata": {},
     "output_type": "execute_result"
    }
   ],
   "source": [
    "find_abc3(11)"
   ]
  },
  {
   "cell_type": "markdown",
   "id": "adapted-homework",
   "metadata": {},
   "source": [
    "Jeśli zapiszemy c jako n-a-b to możemy uprościć pętle do dwóch w następujący sposób:"
   ]
  },
  {
   "cell_type": "code",
   "execution_count": 99,
   "id": "vocal-robertson",
   "metadata": {},
   "outputs": [],
   "source": [
    "def find_abc4(n:int):\n",
    "    k=0\n",
    "    existance=False\n",
    "    for a in range(round(n/2)+1):\n",
    "        k+=1\n",
    "        for b in range(a+1,round(n/2)+1):\n",
    "            c=n-a-b\n",
    "            k+=10\n",
    "            if a**2+b**2==c**2 and b!=c:\n",
    "                existance = True\n",
    "                return [existance,a,b,c,k]\n",
    "    a,b,c=-1,-1,-1\n",
    "    return [existance,a,b,c,k]"
   ]
  },
  {
   "cell_type": "code",
   "execution_count": 100,
   "id": "casual-junction",
   "metadata": {},
   "outputs": [
    {
     "data": {
      "text/plain": [
       "[True, 200, 375, 425, 802951]"
      ]
     },
     "execution_count": 100,
     "metadata": {},
     "output_type": "execute_result"
    }
   ],
   "source": [
    "find_abc4(1000)"
   ]
  },
  {
   "cell_type": "code",
   "execution_count": 101,
   "id": "critical-party",
   "metadata": {},
   "outputs": [
    {
     "data": {
      "text/plain": [
       "[True, 3, 4, 5, 164]"
      ]
     },
     "execution_count": 101,
     "metadata": {},
     "output_type": "execute_result"
    }
   ],
   "source": [
    "find_abc4(12)"
   ]
  },
  {
   "cell_type": "code",
   "execution_count": 102,
   "id": "grateful-assumption",
   "metadata": {},
   "outputs": [
    {
     "data": {
      "text/plain": [
       "[False, -1, -1, -1, 217]"
      ]
     },
     "execution_count": 102,
     "metadata": {},
     "output_type": "execute_result"
    }
   ],
   "source": [
    "find_abc4(11)"
   ]
  },
  {
   "cell_type": "markdown",
   "id": "pretty-ambassador",
   "metadata": {},
   "source": [
    "Przekształcając równania dane w zadaniu otrzymujemy:<br>\n",
    "**a-b = -sqrt(c^2-n^2+2cn)<br>\n",
    "b = (n-c-(a-b))/2<br>\n",
    "a = n-c-b**<br>\n",
    "przy 'a<b<c'<br>\n",
    "jeszcze wiemy że a+b>c, czyli n-c>c, czyli n>2c, zatem c<n/2<br>\n",
    "także "
   ]
  },
  {
   "cell_type": "code",
   "execution_count": 103,
   "id": "minor-virtue",
   "metadata": {},
   "outputs": [],
   "source": [
    "def find_abc5(n:int):\n",
    "    k=0\n",
    "    existance=False\n",
    "    for c in range(math.ceil(n*math.sqrt(2)-n),round(n/2)+1):\n",
    "        ab_sub = math.sqrt(c**2-n**2+2*c*n)\n",
    "        k+=9\n",
    "        if math.floor(ab_sub) == ab_sub:\n",
    "            b = int((n-c+ab_sub)/2)\n",
    "            a = int(n-c-b)\n",
    "            k+=8\n",
    "            if a!=0 and b!=0:\n",
    "                existance = True\n",
    "                return [existance,a,b,c,k]\n",
    "    a,b,c=-1,-1,-1\n",
    "    return [existance,a,b,c,k]"
   ]
  },
  {
   "cell_type": "code",
   "execution_count": 107,
   "id": "classical-vegetarian",
   "metadata": {},
   "outputs": [
    {
     "data": {
      "text/plain": [
       "[True, 200, 375, 425, 107]"
      ]
     },
     "execution_count": 107,
     "metadata": {},
     "output_type": "execute_result"
    }
   ],
   "source": [
    "find_abc5(1000)"
   ]
  },
  {
   "cell_type": "code",
   "execution_count": 108,
   "id": "advised-exhaust",
   "metadata": {},
   "outputs": [
    {
     "data": {
      "text/plain": [
       "[True, 3, 4, 5, 17]"
      ]
     },
     "execution_count": 108,
     "metadata": {},
     "output_type": "execute_result"
    }
   ],
   "source": [
    "find_abc5(12)"
   ]
  },
  {
   "cell_type": "code",
   "execution_count": 109,
   "id": "imperial-hacker",
   "metadata": {},
   "outputs": [
    {
     "data": {
      "text/plain": [
       "[False, -1, -1, -1, 18]"
      ]
     },
     "execution_count": 109,
     "metadata": {},
     "output_type": "execute_result"
    }
   ],
   "source": [
    "find_abc5(11)"
   ]
  },
  {
   "cell_type": "code",
   "execution_count": 110,
   "id": "fuzzy-given",
   "metadata": {},
   "outputs": [],
   "source": [
    "x = range(1,6,1)\n",
    "y = [find_abc1(1000)[4],find_abc2(1000)[4],find_abc3(1000)[4],find_abc4(1000)[4],find_abc5(1000)[4]]"
   ]
  },
  {
   "cell_type": "code",
   "execution_count": 111,
   "id": "proud-hollow",
   "metadata": {},
   "outputs": [
    {
     "data": {
      "image/png": "[encoded data removed]",
      "text/plain": [
       "<Figure size 432x288 with 1 Axes>"
      ]
     },
     "metadata": {
      "needs_background": "light"
     },
     "output_type": "display_data"
    }
   ],
   "source": [
    "x = [i for i in range(1,6)]\n",
    "plt.scatter(x,y)\n",
    "plt.grid()"
   ]
  },
  {
   "cell_type": "code",
   "execution_count": 121,
   "id": "embedded-indonesia",
   "metadata": {},
   "outputs": [],
   "source": [
    "x = range(1,6)\n",
    "y = [find_abc1(11)[4],find_abc2(11)[4],find_abc3(11)[4],find_abc4(11)[4],find_abc5(11)[4]]"
   ]
  },
  {
   "cell_type": "code",
   "execution_count": 122,
   "id": "entitled-circle",
   "metadata": {},
   "outputs": [
    {
     "data": {
      "image/png": "[encoded data removed]",
      "text/plain": [
       "<Figure size 432x288 with 1 Axes>"
      ]
     },
     "metadata": {
      "needs_background": "light"
     },
     "output_type": "display_data"
    }
   ],
   "source": [
    "plt.scatter(x,y)\n",
    "plt.grid()"
   ]
  },
  {
   "cell_type": "code",
   "execution_count": 123,
   "id": "induced-trade",
   "metadata": {},
   "outputs": [],
   "source": [
    "y = [find_abc1(12)[4],find_abc2(12)[4],find_abc3(12)[4],find_abc4(12)[4],find_abc5(12)[4]]"
   ]
  },
  {
   "cell_type": "code",
   "execution_count": 124,
   "id": "selected-collective",
   "metadata": {},
   "outputs": [
    {
     "data": {
      "image/png": "[encoded data removed]",
      "text/plain": [
       "<Figure size 432x288 with 1 Axes>"
      ]
     },
     "metadata": {
      "needs_background": "light"
     },
     "output_type": "display_data"
    }
   ],
   "source": [
    "plt.scatter(x,y)\n",
    "plt.grid()"
   ]
  }
 ],
 "metadata": {
  "@webio": {
   "lastCommId": null,
   "lastKernelId": null
  },
  "kernelspec": {
   "display_name": "Python 3",
   "language": "python",
   "name": "python3"
  },
  "language_info": {
   "codemirror_mode": {
    "name": "ipython",
    "version": 3
   },
   "file_extension": ".py",
   "mimetype": "text/x-python",
   "name": "python",
   "nbconvert_exporter": "python",
   "pygments_lexer": "ipython3",
   "version": "3.7.0"
  }
 },
 "nbformat": 4,
 "nbformat_minor": 5
}
